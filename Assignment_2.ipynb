{
 "cells": [
  {
   "cell_type": "code",
   "execution_count": 1,
   "metadata": {},
   "outputs": [],
   "source": [
    "from pdf2image import convert_from_path"
   ]
  },
  {
   "cell_type": "code",
   "execution_count": 2,
   "metadata": {},
   "outputs": [],
   "source": [
    "import matplotlib.pyplot as plt\n",
    "import matplotlib.image as mpimg\n",
    "import cv2\n",
    "import numpy as np\n",
    "from PIL import Image"
   ]
  },
  {
   "cell_type": "code",
   "execution_count": 3,
   "metadata": {},
   "outputs": [],
   "source": [
    "# Store Pdf with convert_from_path function\n",
    "images = convert_from_path('task4_doc_page-0001.pdf')"
   ]
  },
  {
   "cell_type": "code",
   "execution_count": 4,
   "metadata": {},
   "outputs": [
    {
     "data": {
      "text/plain": [
       "[<PIL.PpmImagePlugin.PpmImageFile image mode=RGB size=1653x2339>,\n",
       " <PIL.PpmImagePlugin.PpmImageFile image mode=RGB size=1653x2339>,\n",
       " <PIL.PpmImagePlugin.PpmImageFile image mode=RGB size=1653x2339>,\n",
       " <PIL.PpmImagePlugin.PpmImageFile image mode=RGB size=1653x2339>]"
      ]
     },
     "execution_count": 4,
     "metadata": {},
     "output_type": "execute_result"
    }
   ],
   "source": [
    "images"
   ]
  },
  {
   "cell_type": "code",
   "execution_count": 5,
   "metadata": {},
   "outputs": [
    {
     "data": {
      "image/png": "[encoded data removed]",
      "text/plain": [
       "<Figure size 432x288 with 1 Axes>"
      ]
     },
     "metadata": {
      "needs_background": "light"
     },
     "output_type": "display_data"
    }
   ],
   "source": [
    "# plt.imshow(cv2.cvtColor(im_resized, cv2.COLOR_BGR2RGB))\n",
    "plt.imshow(images[0])\n",
    "plt.show()"
   ]
  },
  {
   "cell_type": "code",
   "execution_count": null,
   "metadata": {},
   "outputs": [],
   "source": []
  },
  {
   "cell_type": "markdown",
   "metadata": {},
   "source": [
    "# image preprocessing \n",
    "# adaptive thresholding "
   ]
  },
  {
   "cell_type": "code",
   "execution_count": 6,
   "metadata": {},
   "outputs": [],
   "source": [
    "def preprocess_image(img):\n",
    "    gray = cv2.cvtColor(np.array(img), cv2.COLOR_BGR2GRAY)\n",
    "    resized = cv2.resize(gray, None, fx=1.5,fy=1.5, interpolation=cv2.INTER_LINEAR)\n",
    "    processed_image = cv2.adaptiveThreshold(resized, 255, cv2.ADAPTIVE_THRESH_GAUSSIAN_C,cv2.THRESH_BINARY,61,11)\n",
    "   \n",
    "    return processed_image"
   ]
  },
  {
   "cell_type": "code",
   "execution_count": 7,
   "metadata": {},
   "outputs": [],
   "source": [
    "# i1 = preprocess_image(images[0])\n",
    "img = []\n",
    "for i in range(len(images)):\n",
    "    im = preprocess_image(images[i])\n",
    "    img.append(im)\n",
    "    \n",
    "    "
   ]
  },
  {
   "cell_type": "code",
   "execution_count": 8,
   "metadata": {},
   "outputs": [],
   "source": [
    "# plt.imshow(i1)\n",
    "# plt.show()"
   ]
  },
  {
   "cell_type": "markdown",
   "metadata": {},
   "source": [
    "# pytesserect "
   ]
  },
  {
   "cell_type": "code",
   "execution_count": 9,
   "metadata": {},
   "outputs": [],
   "source": [
    "import pytesseract\n",
    "pytesseract.pytesseract.tesseract_cmd = r'C:\\\\Program Files\\\\Tesseract-OCR\\\\tesseract.exe'"
   ]
  },
  {
   "cell_type": "code",
   "execution_count": 10,
   "metadata": {},
   "outputs": [],
   "source": [
    "text = []\n",
    "for i in range(len(images)):\n",
    "    st = pytesseract.image_to_string(img[i])\n",
    "    text.append(st)\n",
    "    "
   ]
  },
  {
   "cell_type": "code",
   "execution_count": 11,
   "metadata": {},
   "outputs": [
    {
     "data": {
      "text/plain": [
       "['CURRICULUM VITAE\\n\\nAnurag Yadav\\nExpertise: JAVA/J2EE Mobile no: +91-9628212345\\nExperience: 2.7+ years E-Mail Id: amitkumar1234S@gmail.com\\n\\nCAREER OBJECTIVE\\n\\nTo work in a stimulating and challenging environment of Avionics that would facilitate the maximum\\nutilization and application of my skills and knowledge in making a positive difference to the organizations\\n\\nEXPERIENCE SUMMARY\\n\\nHaving 2.7+ years of Experience in Software development environment by using J2SE, J2EE and Oracle\\nTechnologies.\\nExperience in Rest Web service.\\n\\nOo\\n\\nExtensive expertise in Serviet, JSP, JDBC, J2EE, Hibernate, spring, Spring Boot Micro services\\nExperience in writing SQL Queries and Stored Procedures.\\n\\nExperience in Micro service, Zuul, Eureka, Ribbon, Spring-cloud.\\nGood Knowledge of O/R Mapping tool like Hibernate.\\nProficient in using design patterns MVC, DAO and IOC.\\n\\nAbility to work with multiple servers’ and hands on experience over Tomcat and Web logic servers.\\n\\nHaving knowledge of Apache kafka and Liquibase.\\nQuick learner with the ability to grasp new technologies\\n\\noOoOoao0oaqaqn0 OO O00 0\\n\\nEXPERIENCE PROFILE\\n\\n¢ Working as a Sr. Software Engineer in Kellton Tech Solutions Ltd. from Feb 20, 2020 to till date\\n\\n¢ Working as a Software Engineer in C1 India Pvt. Ltd. from March 18, 2019 to 14 Feb 2020\\n\\nI Good Knowledge in Technology & Subject ]\\n\\n¢ Mainly worked on Java, Hibernate, and Spring.\\n\\n¢ Experience on Micro Services (Zuul, Eureka, Ribbon,cloud).\\n¢ Experience on Web Services Rest API (Spring4, Spring Boot).\\n\\n¢ Experience in using Spring Security (Basic, JWT)\\n',\n",
       " '¢ Experience on Oracle 11G, MySql , PostgreSQL, MongoDB.\\n¢ Experience in using Apache Tomcat 8.0, Weblogic 9.0.\\n\\n¢ Experience in using GIT and SVN version control tools.\\n\\n¢ Experience with Maven, JUnit, Log4J.\\n\\n¢ Experience with Tracking Tools — Jira\\n\\n¢ Knowledge of JSP, SERVLET, JDBC\\n\\n¢ Knowledge of HTML, CSS, Javascript And Angular 6.0.\\n\\n¢ Knowledge of Spring Boot thymeleaf.\\n\\nEDUCATION PROFILE\\n\\n+ Master of Computer Application (MCA) From Institute of Engineering And Technology Faizabad (UP) in\\n2019 with percentage 76.25\\n\\n* Bachelor of Computer Application (BCA) from Dr. Ram manohar Lohia Avadh University Faizabad\\n(U.P) in 2016 with percentage 65.80\\nIntermediate from Up BOARD in 2013 with percentage 68.80\\nHighSchool from Up BOARD in 2011 with percentage 69.66\\n\\nProject Profile\\n\\n#Project 1 1 Vestige\\nRole : Team Member\\nTeam Size : 9\\nDuration : Jan 2021 to till date\\nImplementation : JDK 1.8, Maven, Spring Boot, Spring-Jpa-Data, Microservices\\n\\nLog4j, DevTool, Swagger, MongoDB, Apache Kafka, JWT,\\nElastic Search, Git.\\n\\nProject Description:\\n\\nVestige brings you the all-new Vestige Online Shopping App, that gives you the convenience of\\n24x7 online shopping and empowers you to manage your business at your fingertips. This all-\\nrounder App is GPS integrated to provide you with the accurate information as per your location\\nand helps you shop your favorite Vestige products.\\n\\nWith this App, not only you can get a home delivery but also book & collect your products from\\nthe nearby Vestige stores.\\n',\n",
       " 'Role and Responsibilities:\\n\\ne Worked on Requirements gathering of projects and responsible for improvement\\ninto the current project.\\n\\n¢ Responsible for testing & quick fixing the issues.\\n\\n¢ Working Experience of Agile Methodology.\\n\\n* Responsible for coordinating with the client for best possible productivity.\\n\\n#Project 2 : Jellyfish\\nRole : Team Member\\nTeam Size : 12\\nDuration : Feb 2020 to till date\\nImplementation : JDK 1.8, Maven, Spring Boot, Spring-Jpa-Data, Microservices\\n\\nLog4j, DevTool, Swagger, MySql, Apache Kafka, JWT, Liquibase,\\nElastic Search, Git.\\n\\nProject Description:\\n\\nJellyfish Order Management Software is a mobile & desktop app where retailers can easily place\\norders with all of their suppliers with the simple push of a button. Jellyfish ordering is fast,\\nsimple, and efficient saving retailers and suppliers time and money.\\n\\nThis easy-to-use ordering app solves complex logistics between buyers and their suppliers ina\\nShared ecosystem. It gives suppliers an electronic customer engagement tool that enables all the\\nvisibility and collaboration you need for success.\\n\\nRole and Responsibilities:\\n\\n¢ Hands on in Spring Boot.\\n\\n¢ Involved in Coding for Services and Spring Controllers.\\n\\n¢ Creating JPA Repository and implemented business logic for them.\\n\\n¢ Responsible for writing spring beans and injecting the spring beans for user\\n¢ Analyzing the requirements and implementation of the module.\\n\\n#Project 3 : Tender Management System (TMS)\\n\\nRole Team Member\\n\\n1\\nTeam Size : 6\\nDuration : March 2019 to Feb 14 2020\\nImplementation : JDK 1.8, Maven, Hibernate, Spring Boot, Spring-Jpa-Data, Spring Boot\\n\\nSecurity\\nLog4j, DevTool, Swagger, PostgreSql, Tomcat 8.0\\n',\n",
       " 'Project Description:\\n\\nOur Tender Management System (TMS) is provide an online service that helps suppliers and\\nbuyers to interact with each other to achieve prominent efficiency in all aspects of a tendering\\nprocess. Whether it is complex tendering or simple RFP/RFQ process, Tender Management helps\\nan organization in executing an effective E-procurement strategy and make your procurement or\\ntendering function hassle-free. It takes care of the complete procurement life cycle, starting from\\nthe vendor or supplier registration process until awarding the contract. By using this solution\\norganizations can ensure the transparency of the entire tender management process.\\n\\nRole and Responsibilities:\\n¢ Writing Business logic using spring boot\\n¢ Involved in Coding for Services and Spring Boot Controllers.\\n\\n¢ Developed spring bean and Dao beans for implementing these business rules of each\\noperations.\\n\\n¢ Responsible for writing spring beans and injecting the spring beans for user information\\nmodule and services modules by using IOC.\\n\\n¢ Implemented Persistence Component using jpa for services module and information\\nmodule by using Association.\\n\\nPERSONAL PROFILE\\n\\nFather’s Name Mr. Ram Keval\\n\\nDate Of Birth : 20 Jul 1996\\n\\nSex : Male\\n\\nLanguages Known : Hindi, English\\n\\nMarital Status s Single\\n\\nDate: Signature\\n\\n(Amit Kumar)\\n']"
      ]
     },
     "execution_count": 11,
     "metadata": {},
     "output_type": "execute_result"
    }
   ],
   "source": [
    "text"
   ]
  },
  {
   "cell_type": "code",
   "execution_count": 12,
   "metadata": {},
   "outputs": [
    {
     "name": "stdout",
     "output_type": "stream",
     "text": [
      "CURRICULUM VITAE\n",
      "\n",
      "Anurag Yadav\n",
      "Expertise: JAVA/J2EE Mobile no: +91-9628212345\n",
      "Experience: 2.7+ years E-Mail Id: amitkumar1234S@gmail.com\n",
      "\n",
      "CAREER OBJECTIVE\n",
      "\n",
      "To work in a stimulating and challenging environment of Avionics that would facilitate the maximum\n",
      "utilization and application of my skills and knowledge in making a positive difference to the organizations\n",
      "\n",
      "EXPERIENCE SUMMARY\n",
      "\n",
      "Having 2.7+ years of Experience in Software development environment by using J2SE, J2EE and Oracle\n",
      "Technologies.\n",
      "Experience in Rest Web service.\n",
      "\n",
      "Oo\n",
      "\n",
      "Extensive expertise in Serviet, JSP, JDBC, J2EE, Hibernate, spring, Spring Boot Micro services\n",
      "Experience in writing SQL Queries and Stored Procedures.\n",
      "\n",
      "Experience in Micro service, Zuul, Eureka, Ribbon, Spring-cloud.\n",
      "Good Knowledge of O/R Mapping tool like Hibernate.\n",
      "Proficient in using design patterns MVC, DAO and IOC.\n",
      "\n",
      "Ability to work with multiple servers’ and hands on experience over Tomcat and Web logic servers.\n",
      "\n",
      "Having knowledge of Apache kafka and Liquibase.\n",
      "Quick learner with the ability to grasp new technologies\n",
      "\n",
      "oOoOoao0oaqaqn0 OO O00 0\n",
      "\n",
      "EXPERIENCE PROFILE\n",
      "\n",
      "¢ Working as a Sr. Software Engineer in Kellton Tech Solutions Ltd. from Feb 20, 2020 to till date\n",
      "\n",
      "¢ Working as a Software Engineer in C1 India Pvt. Ltd. from March 18, 2019 to 14 Feb 2020\n",
      "\n",
      "I Good Knowledge in Technology & Subject ]\n",
      "\n",
      "¢ Mainly worked on Java, Hibernate, and Spring.\n",
      "\n",
      "¢ Experience on Micro Services (Zuul, Eureka, Ribbon,cloud).\n",
      "¢ Experience on Web Services Rest API (Spring4, Spring Boot).\n",
      "\n",
      "¢ Experience in using Spring Security (Basic, JWT)\n",
      "¢ Experience on Oracle 11G, MySql , PostgreSQL, MongoDB.\n",
      "¢ Experience in using Apache Tomcat 8.0, Weblogic 9.0.\n",
      "\n",
      "¢ Experience in using GIT and SVN version control tools.\n",
      "\n",
      "¢ Experience with Maven, JUnit, Log4J.\n",
      "\n",
      "¢ Experience with Tracking Tools — Jira\n",
      "\n",
      "¢ Knowledge of JSP, SERVLET, JDBC\n",
      "\n",
      "¢ Knowledge of HTML, CSS, Javascript And Angular 6.0.\n",
      "\n",
      "¢ Knowledge of Spring Boot thymeleaf.\n",
      "\n",
      "EDUCATION PROFILE\n",
      "\n",
      "+ Master of Computer Application (MCA) From Institute of Engineering And Technology Faizabad (UP) in\n",
      "2019 with percentage 76.25\n",
      "\n",
      "* Bachelor of Computer Application (BCA) from Dr. Ram manohar Lohia Avadh University Faizabad\n",
      "(U.P) in 2016 with percentage 65.80\n",
      "Intermediate from Up BOARD in 2013 with percentage 68.80\n",
      "HighSchool from Up BOARD in 2011 with percentage 69.66\n",
      "\n",
      "Project Profile\n",
      "\n",
      "#Project 1 1 Vestige\n",
      "Role : Team Member\n",
      "Team Size : 9\n",
      "Duration : Jan 2021 to till date\n",
      "Implementation : JDK 1.8, Maven, Spring Boot, Spring-Jpa-Data, Microservices\n",
      "\n",
      "Log4j, DevTool, Swagger, MongoDB, Apache Kafka, JWT,\n",
      "Elastic Search, Git.\n",
      "\n",
      "Project Description:\n",
      "\n",
      "Vestige brings you the all-new Vestige Online Shopping App, that gives you the convenience of\n",
      "24x7 online shopping and empowers you to manage your business at your fingertips. This all-\n",
      "rounder App is GPS integrated to provide you with the accurate information as per your location\n",
      "and helps you shop your favorite Vestige products.\n",
      "\n",
      "With this App, not only you can get a home delivery but also book & collect your products from\n",
      "the nearby Vestige stores.\n",
      "Role and Responsibilities:\n",
      "\n",
      "e Worked on Requirements gathering of projects and responsible for improvement\n",
      "into the current project.\n",
      "\n",
      "¢ Responsible for testing & quick fixing the issues.\n",
      "\n",
      "¢ Working Experience of Agile Methodology.\n",
      "\n",
      "* Responsible for coordinating with the client for best possible productivity.\n",
      "\n",
      "#Project 2 : Jellyfish\n",
      "Role : Team Member\n",
      "Team Size : 12\n",
      "Duration : Feb 2020 to till date\n",
      "Implementation : JDK 1.8, Maven, Spring Boot, Spring-Jpa-Data, Microservices\n",
      "\n",
      "Log4j, DevTool, Swagger, MySql, Apache Kafka, JWT, Liquibase,\n",
      "Elastic Search, Git.\n",
      "\n",
      "Project Description:\n",
      "\n",
      "Jellyfish Order Management Software is a mobile & desktop app where retailers can easily place\n",
      "orders with all of their suppliers with the simple push of a button. Jellyfish ordering is fast,\n",
      "simple, and efficient saving retailers and suppliers time and money.\n",
      "\n",
      "This easy-to-use ordering app solves complex logistics between buyers and their suppliers ina\n",
      "Shared ecosystem. It gives suppliers an electronic customer engagement tool that enables all the\n",
      "visibility and collaboration you need for success.\n",
      "\n",
      "Role and Responsibilities:\n",
      "\n",
      "¢ Hands on in Spring Boot.\n",
      "\n",
      "¢ Involved in Coding for Services and Spring Controllers.\n",
      "\n",
      "¢ Creating JPA Repository and implemented business logic for them.\n",
      "\n",
      "¢ Responsible for writing spring beans and injecting the spring beans for user\n",
      "¢ Analyzing the requirements and implementation of the module.\n",
      "\n",
      "#Project 3 : Tender Management System (TMS)\n",
      "\n",
      "Role Team Member\n",
      "\n",
      "1\n",
      "Team Size : 6\n",
      "Duration : March 2019 to Feb 14 2020\n",
      "Implementation : JDK 1.8, Maven, Hibernate, Spring Boot, Spring-Jpa-Data, Spring Boot\n",
      "\n",
      "Security\n",
      "Log4j, DevTool, Swagger, PostgreSql, Tomcat 8.0\n",
      "Project Description:\n",
      "\n",
      "Our Tender Management System (TMS) is provide an online service that helps suppliers and\n",
      "buyers to interact with each other to achieve prominent efficiency in all aspects of a tendering\n",
      "process. Whether it is complex tendering or simple RFP/RFQ process, Tender Management helps\n",
      "an organization in executing an effective E-procurement strategy and make your procurement or\n",
      "tendering function hassle-free. It takes care of the complete procurement life cycle, starting from\n",
      "the vendor or supplier registration process until awarding the contract. By using this solution\n",
      "organizations can ensure the transparency of the entire tender management process.\n",
      "\n",
      "Role and Responsibilities:\n",
      "¢ Writing Business logic using spring boot\n",
      "¢ Involved in Coding for Services and Spring Boot Controllers.\n",
      "\n",
      "¢ Developed spring bean and Dao beans for implementing these business rules of each\n",
      "operations.\n",
      "\n",
      "¢ Responsible for writing spring beans and injecting the spring beans for user information\n",
      "module and services modules by using IOC.\n",
      "\n",
      "¢ Implemented Persistence Component using jpa for services module and information\n",
      "module by using Association.\n",
      "\n",
      "PERSONAL PROFILE\n",
      "\n",
      "Father’s Name Mr. Ram Keval\n",
      "\n",
      "Date Of Birth : 20 Jul 1996\n",
      "\n",
      "Sex : Male\n",
      "\n",
      "Languages Known : Hindi, English\n",
      "\n",
      "Marital Status s Single\n",
      "\n",
      "Date: Signature\n",
      "\n",
      "(Amit Kumar)\n",
      "\n"
     ]
    }
   ],
   "source": [
    "listToStr = ''.join([str(i) for i in text])\n",
    " \n",
    "print(listToStr)"
   ]
  },
  {
   "cell_type": "markdown",
   "metadata": {},
   "source": [
    "# extract mobile number "
   ]
  },
  {
   "cell_type": "code",
   "execution_count": 13,
   "metadata": {},
   "outputs": [
    {
     "name": "stdout",
     "output_type": "stream",
     "text": [
      "['9628212345']\n"
     ]
    }
   ],
   "source": [
    "import re\n",
    "mobile_Regex = re.compile (r'[\\d]{10}|[\\d]{3}-[\\d]{3}-[\\d]{3}')\n",
    "mobile = mobile_Regex.findall(listToStr)\n",
    "print(mobile)"
   ]
  },
  {
   "cell_type": "markdown",
   "metadata": {},
   "source": [
    "# extract email id "
   ]
  },
  {
   "cell_type": "code",
   "execution_count": 14,
   "metadata": {},
   "outputs": [
    {
     "name": "stdout",
     "output_type": "stream",
     "text": [
      "['amitkumar1234S@gmail.com']\n"
     ]
    }
   ],
   "source": [
    "email_regex = re.compile(r'\\b[A-Za-z0-9._%+-]+@[A-Za-z0-9.-]+\\.[A-Z|a-z]{2,}\\b')\n",
    "email = email_regex.findall(listToStr)\n",
    "print(email)"
   ]
  },
  {
   "cell_type": "markdown",
   "metadata": {},
   "source": [
    "# extract hyperlink"
   ]
  },
  {
   "cell_type": "code",
   "execution_count": 15,
   "metadata": {},
   "outputs": [
    {
     "name": "stdout",
     "output_type": "stream",
     "text": [
      "[]\n"
     ]
    }
   ],
   "source": [
    "url_regex = re.compile('http://[a-zA-Z0-9._\\-]+\\.[a-zA-Z0-9_\\-/]+')\n",
    "url = url_regex.findall(listToStr)\n",
    "print(url)"
   ]
  },
  {
   "cell_type": "markdown",
   "metadata": {},
   "source": [
    "# education"
   ]
  },
  {
   "cell_type": "code",
   "execution_count": 16,
   "metadata": {},
   "outputs": [
    {
     "data": {
      "text/plain": [
       "['BJE',\n",
       " 'cha',\n",
       " 'X',\n",
       " 'mca',\n",
       " 'X',\n",
       " 'MyS',\n",
       " 'mca',\n",
       " 'MCA',\n",
       " 'BCA',\n",
       " 'MyS',\n",
       " 'MS',\n",
       " 'mca',\n",
       " 'MS',\n",
       " 'cia']"
      ]
     },
     "execution_count": 16,
     "metadata": {},
     "output_type": "execute_result"
    }
   ],
   "source": [
    "education = re.findall(r'BE|B.E|Bachelor of Engineering|MCA|BCA|BS|B.S|C.A.|c.a|B.Com|B. Com|M. Com|M.Com|M. Com|ME|M.E|M.E|MS|M.S|bba|bca|mca|BTECH|B.TECH|M.TECH|MTECH|PHD|phd|ph.d|Ph.D.|MBA|mba|graduate|post-graduate|masters|SSC|HSC|CBSE|ICSE|X|XII', listToStr)\n",
    "education "
   ]
  },
  {
   "cell_type": "code",
   "execution_count": null,
   "metadata": {},
   "outputs": [],
   "source": []
  },
  {
   "cell_type": "code",
   "execution_count": null,
   "metadata": {},
   "outputs": [],
   "source": []
  },
  {
   "cell_type": "code",
   "execution_count": null,
   "metadata": {},
   "outputs": [],
   "source": []
  },
  {
   "cell_type": "code",
   "execution_count": null,
   "metadata": {},
   "outputs": [],
   "source": []
  }
 ],
 "metadata": {
  "kernelspec": {
   "display_name": "Python 3 (ipykernel)",
   "language": "python",
   "name": "python3"
  },
  "language_info": {
   "codemirror_mode": {
    "name": "ipython",
    "version": 3
   },
   "file_extension": ".py",
   "mimetype": "text/x-python",
   "name": "python",
   "nbconvert_exporter": "python",
   "pygments_lexer": "ipython3",
   "version": "3.10.4"
  }
 },
 "nbformat": 4,
 "nbformat_minor": 4
}
